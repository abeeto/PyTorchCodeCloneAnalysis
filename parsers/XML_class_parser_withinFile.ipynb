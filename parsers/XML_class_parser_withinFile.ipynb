{
 "cells": [
  {
   "cell_type": "markdown",
   "metadata": {},
   "source": [
    "# getting withinFile table:\n",
    "- reponame, username, filename, fileCount, clonePairCount\n"
   ]
  },
  {
   "cell_type": "code",
   "execution_count": 27,
   "metadata": {},
   "outputs": [],
   "source": [
    "from lxml import etree\n",
    "import pandas as pd\n",
    "import sys \n",
    "from ast import literal_eval\n",
    "sys.path.append('../types/')\n",
    "import pickle"
   ]
  },
  {
   "cell_type": "code",
   "execution_count": 28,
   "metadata": {},
   "outputs": [],
   "source": [
    "with open('./parsed/clone_frags.pkl', 'rb') as f:\n",
    "    clone_frags = pickle.load(f)"
   ]
  },
  {
   "cell_type": "code",
   "execution_count": 29,
   "metadata": {},
   "outputs": [],
   "source": [
    "grouped = clone_frags.groupby(['bucketId', 'fileName', 'userName', 'repoName'])"
   ]
  },
  {
   "cell_type": "code",
   "execution_count": 30,
   "metadata": {},
   "outputs": [],
   "source": [
    "withinFile_df = grouped.filter(lambda x: len(x) > 1)"
   ]
  },
  {
   "cell_type": "code",
   "execution_count": 31,
   "metadata": {},
   "outputs": [],
   "source": [
    "withinFile_df = withinFile_df.sort_values(by=['bucketId'], ascending=True)  \n",
    "withinFile_df = pd.DataFrame(withinFile_df.groupby(['bucketId', 'similarity', 'fileName', 'userName', 'repoName'])['fileName'].apply(len).reset_index(name = 'sameFileApperances'))"
   ]
  },
  {
   "cell_type": "code",
   "execution_count": 32,
   "metadata": {},
   "outputs": [],
   "source": [
    "# get combinations of clone pairs, i.e nc2, where n is the number of apperances of same file in a class\n",
    "withinFile_df['clonePairCount'] = (withinFile_df['sameFileApperances']*(withinFile_df['sameFileApperances']-1))/2 "
   ]
  },
  {
   "cell_type": "code",
   "execution_count": 33,
   "metadata": {},
   "outputs": [
    {
     "data": {
      "text/html": [
       "<div>\n",
       "<style scoped>\n",
       "    .dataframe tbody tr th:only-of-type {\n",
       "        vertical-align: middle;\n",
       "    }\n",
       "\n",
       "    .dataframe tbody tr th {\n",
       "        vertical-align: top;\n",
       "    }\n",
       "\n",
       "    .dataframe thead th {\n",
       "        text-align: right;\n",
       "    }\n",
       "</style>\n",
       "<table border=\"1\" class=\"dataframe\">\n",
       "  <thead>\n",
       "    <tr style=\"text-align: right;\">\n",
       "      <th></th>\n",
       "      <th>bucketId</th>\n",
       "      <th>similarity</th>\n",
       "      <th>fileName</th>\n",
       "      <th>userName</th>\n",
       "      <th>repoName</th>\n",
       "      <th>sameFileApperances</th>\n",
       "      <th>clonePairCount</th>\n",
       "    </tr>\n",
       "  </thead>\n",
       "  <tbody>\n",
       "    <tr>\n",
       "      <th>0</th>\n",
       "      <td>3</td>\n",
       "      <td>71</td>\n",
       "      <td>test.py</td>\n",
       "      <td>raheelqader</td>\n",
       "      <td>torchtext_lite</td>\n",
       "      <td>11</td>\n",
       "      <td>55.0</td>\n",
       "    </tr>\n",
       "    <tr>\n",
       "      <th>1</th>\n",
       "      <td>4</td>\n",
       "      <td>84</td>\n",
       "      <td>test.py</td>\n",
       "      <td>raheelqader</td>\n",
       "      <td>torchtext_lite</td>\n",
       "      <td>2</td>\n",
       "      <td>1.0</td>\n",
       "    </tr>\n",
       "    <tr>\n",
       "      <th>2</th>\n",
       "      <td>10</td>\n",
       "      <td>90</td>\n",
       "      <td>hubconf.py</td>\n",
       "      <td>rasbt</td>\n",
       "      <td>ord-torchhub</td>\n",
       "      <td>4</td>\n",
       "      <td>6.0</td>\n",
       "    </tr>\n",
       "    <tr>\n",
       "      <th>3</th>\n",
       "      <td>11</td>\n",
       "      <td>70</td>\n",
       "      <td>15_ResNet_from_scratch.py</td>\n",
       "      <td>muratonuryildirim</td>\n",
       "      <td>PyTorch_Notes</td>\n",
       "      <td>3</td>\n",
       "      <td>3.0</td>\n",
       "    </tr>\n",
       "    <tr>\n",
       "      <th>4</th>\n",
       "      <td>11</td>\n",
       "      <td>70</td>\n",
       "      <td>Autoencoder.py</td>\n",
       "      <td>grassknoted</td>\n",
       "      <td>PyTorch-Autoencoder</td>\n",
       "      <td>2</td>\n",
       "      <td>1.0</td>\n",
       "    </tr>\n",
       "    <tr>\n",
       "      <th>...</th>\n",
       "      <td>...</td>\n",
       "      <td>...</td>\n",
       "      <td>...</td>\n",
       "      <td>...</td>\n",
       "      <td>...</td>\n",
       "      <td>...</td>\n",
       "      <td>...</td>\n",
       "    </tr>\n",
       "    <tr>\n",
       "      <th>1085</th>\n",
       "      <td>3323</td>\n",
       "      <td>75</td>\n",
       "      <td>unet_modules.py</td>\n",
       "      <td>mcgoughlin</td>\n",
       "      <td>PyTorch-UNet</td>\n",
       "      <td>3</td>\n",
       "      <td>3.0</td>\n",
       "    </tr>\n",
       "    <tr>\n",
       "      <th>1086</th>\n",
       "      <td>3324</td>\n",
       "      <td>80</td>\n",
       "      <td>load_data.py</td>\n",
       "      <td>jiaxiang-cheng</td>\n",
       "      <td>PyTorch-CNN-for-RUL-Prediction</td>\n",
       "      <td>4</td>\n",
       "      <td>6.0</td>\n",
       "    </tr>\n",
       "    <tr>\n",
       "      <th>1087</th>\n",
       "      <td>3325</td>\n",
       "      <td>93</td>\n",
       "      <td>main.py</td>\n",
       "      <td>VikHerr</td>\n",
       "      <td>DeepVis-PredDiff-PyTorch</td>\n",
       "      <td>3</td>\n",
       "      <td>3.0</td>\n",
       "    </tr>\n",
       "    <tr>\n",
       "      <th>1088</th>\n",
       "      <td>3326</td>\n",
       "      <td>77</td>\n",
       "      <td>ProgGAN.py</td>\n",
       "      <td>ConnorJL</td>\n",
       "      <td>ProgGAN-PyTorch</td>\n",
       "      <td>2</td>\n",
       "      <td>1.0</td>\n",
       "    </tr>\n",
       "    <tr>\n",
       "      <th>1089</th>\n",
       "      <td>3327</td>\n",
       "      <td>86</td>\n",
       "      <td>ProgGAN.py</td>\n",
       "      <td>ConnorJL</td>\n",
       "      <td>ProgGAN-PyTorch</td>\n",
       "      <td>2</td>\n",
       "      <td>1.0</td>\n",
       "    </tr>\n",
       "  </tbody>\n",
       "</table>\n",
       "<p>1090 rows × 7 columns</p>\n",
       "</div>"
      ],
      "text/plain": [
       "      bucketId  similarity                   fileName           userName  \\\n",
       "0            3          71                    test.py        raheelqader   \n",
       "1            4          84                    test.py        raheelqader   \n",
       "2           10          90                 hubconf.py              rasbt   \n",
       "3           11          70  15_ResNet_from_scratch.py  muratonuryildirim   \n",
       "4           11          70             Autoencoder.py        grassknoted   \n",
       "...        ...         ...                        ...                ...   \n",
       "1085      3323          75            unet_modules.py         mcgoughlin   \n",
       "1086      3324          80               load_data.py     jiaxiang-cheng   \n",
       "1087      3325          93                    main.py            VikHerr   \n",
       "1088      3326          77                 ProgGAN.py           ConnorJL   \n",
       "1089      3327          86                 ProgGAN.py           ConnorJL   \n",
       "\n",
       "                            repoName  sameFileApperances  clonePairCount  \n",
       "0                     torchtext_lite                  11            55.0  \n",
       "1                     torchtext_lite                   2             1.0  \n",
       "2                       ord-torchhub                   4             6.0  \n",
       "3                      PyTorch_Notes                   3             3.0  \n",
       "4                PyTorch-Autoencoder                   2             1.0  \n",
       "...                              ...                 ...             ...  \n",
       "1085                    PyTorch-UNet                   3             3.0  \n",
       "1086  PyTorch-CNN-for-RUL-Prediction                   4             6.0  \n",
       "1087        DeepVis-PredDiff-PyTorch                   3             3.0  \n",
       "1088                 ProgGAN-PyTorch                   2             1.0  \n",
       "1089                 ProgGAN-PyTorch                   2             1.0  \n",
       "\n",
       "[1090 rows x 7 columns]"
      ]
     },
     "execution_count": 33,
     "metadata": {},
     "output_type": "execute_result"
    }
   ],
   "source": [
    "withinFile_df"
   ]
  },
  {
   "cell_type": "code",
   "execution_count": 34,
   "metadata": {},
   "outputs": [],
   "source": [
    "withinFile_df.to_pickle('./parsed/withinFile.pkl')"
   ]
  }
 ],
 "metadata": {
  "kernelspec": {
   "display_name": "ldaTopicModel",
   "language": "python",
   "name": "python3"
  },
  "language_info": {
   "codemirror_mode": {
    "name": "ipython",
    "version": 3
   },
   "file_extension": ".py",
   "mimetype": "text/x-python",
   "name": "python",
   "nbconvert_exporter": "python",
   "pygments_lexer": "ipython3",
   "version": "3.12.2"
  }
 },
 "nbformat": 4,
 "nbformat_minor": 2
}
