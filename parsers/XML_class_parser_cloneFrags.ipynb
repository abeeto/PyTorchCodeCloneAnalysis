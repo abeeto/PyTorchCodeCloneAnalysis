{
 "cells": [
  {
   "cell_type": "code",
   "execution_count": 1,
   "metadata": {},
   "outputs": [],
   "source": [
    "from lxml import etree\n",
    "import pandas as pd\n",
    "import sys \n",
    "from ast import literal_eval\n",
    "sys.path.append('../types/')\n",
    "import pickle"
   ]
  },
  {
   "cell_type": "code",
   "execution_count": 2,
   "metadata": {},
   "outputs": [],
   "source": [
    "from cloneTypes import Bucket, CloneFragment"
   ]
  },
  {
   "cell_type": "code",
   "execution_count": 3,
   "metadata": {},
   "outputs": [],
   "source": [
    "with open('./parsed/buckets_objects.pkl', 'rb') as file:\n",
    "    buckets = pickle.load(file)"
   ]
  },
  {
   "cell_type": "code",
   "execution_count": 4,
   "metadata": {},
   "outputs": [],
   "source": [
    "clone_frag_data = []\n",
    "for bucket in buckets:\n",
    "    for clone_frag in bucket.cloneFrags:\n",
    "        clone_frag_data.append({\n",
    "            \"bucketId\": bucket.bucketId,\n",
    "            \"repoName\": clone_frag.repoName,\n",
    "            \"userName\": clone_frag.userName,\n",
    "            \"fileName\": clone_frag.fileName,\n",
    "            \"startline\": clone_frag.startline,\n",
    "            \"endline\": clone_frag.endline,\n",
    "            \"similarity\": bucket.similarity,\n",
    "            \"pcid\": clone_frag.pcid\n",
    "        })\n",
    "\n",
    "clone_frag_df = pd.DataFrame(clone_frag_data)"
   ]
  },
  {
   "cell_type": "code",
   "execution_count": 5,
   "metadata": {},
   "outputs": [],
   "source": [
    "clone_frag_df.to_pickle('./parsed/clone_frags.pkl')"
   ]
  }
 ],
 "metadata": {
  "kernelspec": {
   "display_name": "ldaTopicModel",
   "language": "python",
   "name": "python3"
  },
  "language_info": {
   "codemirror_mode": {
    "name": "ipython",
    "version": 3
   },
   "file_extension": ".py",
   "mimetype": "text/x-python",
   "name": "python",
   "nbconvert_exporter": "python",
   "pygments_lexer": "ipython3",
   "version": "3.12.2"
  }
 },
 "nbformat": 4,
 "nbformat_minor": 2
}
