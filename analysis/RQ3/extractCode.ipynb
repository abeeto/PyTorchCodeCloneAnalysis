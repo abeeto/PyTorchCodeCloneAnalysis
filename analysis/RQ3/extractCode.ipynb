{
 "cells": [
  {
   "cell_type": "code",
   "execution_count": 1,
   "metadata": {},
   "outputs": [],
   "source": [
    "# parse GHData_functions-blind-clones/GHData_functions-blind-clones-0.30-classes-withsource.xml\n",
    "# to get the all <source> tags in each <class> tag\n",
    "# and write them to a file\n",
    "import xml.etree.ElementTree as ET\n",
    "import re\n",
    "import pandas as pd\n",
    "\n",
    "xml_file = \"../../GHData_functions-blind-clones/GHData_functions-blind-clones-0.30-classes-withsource.xml\"\n",
    "\n"
   ]
  },
  {
   "cell_type": "code",
   "execution_count": 2,
   "metadata": {},
   "outputs": [],
   "source": [
    "import re\n",
    "import xml.etree.ElementTree as ET\n",
    "\n",
    "\n",
    "def remove_non_alpha_characters_inside_source_tags(xml_content):\n",
    "    \"\"\"\n",
    "    Remove non-alphabetic characters (except spaces) inside <source> tags.\n",
    "    \"\"\"\n",
    "    # Regular expression to find content within <source> tags\n",
    "    source_tag_pattern = re.compile(r'(<source[^>]*>)(.*?)(</source>)', re.DOTALL)\n",
    "    \n",
    "    def remove_non_alpha_except_space(match):\n",
    "        # Keep only alphabetic characters and spaces within the content of the <source> tag\n",
    "        cleaned_content = re.sub(r'[^a-zA-Z\\s]', ' ', match.group(2))\n",
    "        # Reconstruct the <source> tag with cleaned content\n",
    "        return match.group(1) + cleaned_content + match.group(3)\n",
    "    \n",
    "    # Apply the cleaning function to all occurrences of <source> tags\n",
    "    return source_tag_pattern.sub(remove_non_alpha_except_space, xml_content)\n"
   ]
  },
  {
   "cell_type": "code",
   "execution_count": 3,
   "metadata": {},
   "outputs": [],
   "source": [
    "# parse xml file\n",
    "import xml.etree.ElementTree as ET\n",
    "\n",
    "# make fileToClean get the file content \n",
    "with open(xml_file, 'r') as file:\n",
    "    fileToClean = file.read()\n",
    "cleanedContent = remove_non_alpha_characters_inside_source_tags(fileToClean)\n",
    "\n",
    "# over write cleaned content \n",
    "with open(\"../../analysis/RQ3/cleaned.xml\", 'w') as file:\n",
    "    file.write(cleanedContent)\n",
    "\n",
    "tree = ET.parse(\"../../analysis/RQ3/cleaned.xml\")\n",
    "root = tree.getroot()\n",
    "\n",
    "# get elements by tag name\n",
    "extractedCode = []\n",
    "for class_ in root.findall(\"class\"):\n",
    "    appendedFile = \"\"\n",
    "    for source in class_.findall(\"source\"):\n",
    "        appendedFile += source.text\n",
    "    extractedCode.append(appendedFile)\n"
   ]
  },
  {
   "cell_type": "code",
   "execution_count": 4,
   "metadata": {},
   "outputs": [],
   "source": [
    "from random import random\n",
    "import math as Math\n",
    "allBucketsInOne = ''\n",
    "for class_ in root.findall(\"class\"):\n",
    "    appendedFile = \"\"\n",
    "    sources_for_class = class_.findall(\"source\")\n",
    "    random_source = sources_for_class[ Math.floor( random() * len(sources_for_class) ) ]\n",
    "    appendedFile += random_source.text\n",
    "    allBucketsInOne += appendedFile\n",
    "with open(\"../../analysis/RQ3/allBucketsInOne.txt\", 'w') as file:\n",
    "    file.write(allBucketsInOne)"
   ]
  },
  {
   "cell_type": "code",
   "execution_count": 5,
   "metadata": {},
   "outputs": [
    {
     "name": "stderr",
     "output_type": "stream",
     "text": [
      "[nltk_data] Downloading package averaged_perceptron_tagger to\n",
      "[nltk_data]     /home/abeeto/nltk_data...\n",
      "[nltk_data]   Package averaged_perceptron_tagger is already up-to-\n",
      "[nltk_data]       date!\n",
      "[nltk_data] Downloading package wordnet to /home/abeeto/nltk_data...\n",
      "[nltk_data]   Package wordnet is already up-to-date!\n",
      "[nltk_data] Downloading package punkt to /home/abeeto/nltk_data...\n",
      "[nltk_data]   Package punkt is already up-to-date!\n"
     ]
    },
    {
     "data": {
      "text/plain": [
       "True"
      ]
     },
     "execution_count": 5,
     "metadata": {},
     "output_type": "execute_result"
    }
   ],
   "source": [
    "import nltk\n",
    "from nltk import pos_tag\n",
    "from nltk.corpus import wordnet\n",
    "from nltk.tokenize import word_tokenize\n",
    "from nltk.stem import WordNetLemmatizer\n",
    "nltk.download('averaged_perceptron_tagger')\n",
    "nltk.download('wordnet')\n",
    "nltk.download('punkt')"
   ]
  },
  {
   "cell_type": "code",
   "execution_count": 6,
   "metadata": {},
   "outputs": [
    {
     "data": {
      "text/plain": [
       "'\\n    def update self  memory  \\n          Monte Carlo estimate of rewards \\n        rewards     \\n        discounted reward    \\n        for reward  is terminal in zip reversed memory rewards   reversed memory is terminals   \\n            if is terminal \\n                discounted reward    \\n            discounted reward   reward    self gamma   discounted reward \\n            rewards insert    discounted reward \\n        \\n          Normalizing the rewards \\n        rewards   torch tensor rewards  to device \\n        rewards    rewards   rewards mean     rewards std    e   \\n        \\n          convert list to tensor\\n        old states   torch squeeze torch stack memory states  to device      detach  \\n        old actions   torch squeeze torch stack memory actions  to device      detach  \\n        old logprobs   torch squeeze torch stack memory logprobs      to device  detach  \\n        \\n          Optimize policy for K epochs \\n        for   in range self K epochs  \\n              Evaluating old actions and values  \\n            logprobs  state values  dist entropy   self policy evaluate old states  old actions \\n            \\n              Finding the ratio  pi theta   pi theta  old  \\n            ratios   torch exp logprobs   old logprobs detach   \\n\\n              Finding Surrogate Loss \\n            advantages   rewards   state values detach     \\n            surr    ratios   advantages\\n            surr    torch clamp ratios    self eps clip    self eps clip  advantages\\n            loss    torch min surr   surr       self MseLoss state values  rewards       dist entropy\\n            \\n              take gradient step\\n            self optimizer zero grad  \\n            loss mean   backward  \\n            self optimizer step  \\n            \\n          Copy new weights into old policy \\n        self policy old load state dict self policy state dict   \\n        \\n\\n    def update self  memory  \\n          Monte Carlo estimation of rewards\\n        rewards     \\n        discounted reward    \\n        for reward  is terminal in zip reversed memory rewards   reversed memory is terminals   \\n            if is terminal \\n                discounted reward    \\n            discounted reward   reward   self gamma   discounted reward\\n            rewards insert    discounted reward \\n\\n          Normalize rewards\\n        rewards   torch tensor rewards  to device \\n        rewards  rewards   rewards mean     rewards std      e   \\n\\n          convert list to tensor\\n        old states   torch squeeze torch stack memory states  to device   detach  \\n        old actions   torch squeeze torch stack memory actions  to device   detach  \\n        old logprobs   torch squeeze torch stack memory logprobs   to device  detach  \\n\\n          Train policy for K epochs  sampling and updating\\n        for   in range self K epochs  \\n              Evaluate old actions and values using current policy\\n            logprobs  state values  dist entropy   self policy evaluate old states  old actions \\n\\n              Importance ratio  p q\\n            ratios   torch exp logprobs   old logprobs detach   \\n\\n              Advantages\\n            advantages   rewards   state values detach    old states  rewards   old states  valueevaluated by current policy \\n\\n              Actor loss using Surrogate loss\\n            surr    ratios   advantages\\n            surr    torch clamp ratios      self eps clip      self eps clip  advantages\\n            actor loss     torch min surr   surr  \\n\\n              Critic loss  critic loss   entropy\\n            critic loss         self MSE loss rewards  state values           dist entropy\\n\\n              Total loss\\n            loss   actor loss   critic loss\\n\\n              Backward gradients\\n            self optimizer zero grad  \\n            loss mean   backward  \\n            self optimizer step  \\n\\n          Copy new weights to old policy\\n        self old policy load state dict self policy state dict   \\n\\n\\n\\n    def update self  memory  \\n          Monte Carlo estimation of rewards\\n        rewards     \\n        discounted reward    \\n        for reward  is terminal in zip reversed memory rewards   reversed memory is terminals   \\n            if is terminal \\n                discounted reward    \\n            discounted reward   reward   self gamma   discounted reward\\n            rewards insert    discounted reward \\n\\n          Normalize rewards\\n        rewards   torch tensor rewards  to device \\n        rewards    rewards   rewards mean     rewards std    e   \\n\\n          convert list to tensor\\n        old states   torch squeeze torch stack memory states  to device   detach  \\n        old actions   torch squeeze torch stack memory actions  to device   detach  \\n        old logprobs   torch squeeze torch stack memory logprobs   to device  detach  \\n\\n          Train policy for K epochs  sampling and updating\\n        for   in range self K epochs  \\n              Evaluate old actions and values using current policy\\n            logprobs  state values  dist entropy   self policy evaluate old states  old actions \\n\\n              Importance ratio  p q\\n            ratios   torch exp logprobs   old logprobs detach   \\n\\n              Advantages\\n            advantages   rewards   state values detach  \\n\\n              Actor loss using Surrogate loss\\n            surr    ratios   advantages\\n            surr    torch clamp ratios      self eps clip      self eps clip  advantages\\n            actor loss     torch min surr   surr  \\n\\n              Critic loss  critic loss   entropy\\n            critic loss         self MSE loss rewards  state values           dist entropy\\n\\n              Total loss\\n            loss   actor loss   critic loss\\n\\n              Backward gradients\\n            self optimizer zero grad  \\n            loss mean   backward  \\n            self optimizer step  \\n\\n          Copy new weights to old policy\\n        self old policy load state dict self policy state dict   \\n\\n\\n\\n    def update self  memory  \\n        rewards     \\n        discounted reward    \\n        for reward  is terminal in zip reversed memory rewards   reversed memory is terminals   \\n            if is terminal \\n                discounted reward    \\n            discounted reward   reward  self gamma   discounted reward \\n            rewards insert    discounted reward \\n\\n          Normalizing the rewards \\n        rewards   torch tensor rewards  to device \\n        rewards  rewards   rewards mean     rewards std      e   \\n\\n          convert list to tensor\\n        old states   torch stack memory states  to device  detach  \\n        old actions   torch stack memory actions  to device  detach  \\n        old logprobs   torch stack memory logprobs  to device  detach  \\n\\n          Optimize policy for K epochs \\n        for   in range self K epochs  \\n              Evaluating old actions and values  \\n            logprobs  state values  dist entropy   self policy evaluate old states  old actions \\n\\n              Finding the ratiopi theta   pi theta  old  \\n            ratios   torch exp logprobs   old logprobs detach   \\n\\n              Finding Surrogate Loss \\n            advantages   rewards   state values detach  \\n            surr    ratios   advantages\\n            surr    torch clamp ratios      self eps clip      self eps clip  advantages\\n            loss    torch min surr   surr         self MseLoss state values  rewards         dist entropy\\n\\n              take gradient step\\n            self optimizer zero grad  \\n            loss mean   backward  \\n            self optimizer step  \\n\\n          Copy new weights into old policy \\n        self policy old load state dict self policy state dict   \\n\\n\\n\\n    def update self  memory     \\n          Monte Carlo estimate of state rewards \\n        rewards     \\n        discounted reward    \\n        for reward  is terminal in zip reversed memory rewards   reversed memory is terminals   \\n            if is terminal \\n                discounted reward    \\n                    \\n            discounted reward   reward  self gamma   discounted reward \\n                    \\n            rewards insert    discounted reward \\n        \\n          Normalizing the rewards \\n        rewards   torch tensor rewards  dtype torch float    to device \\n        rewards    rewards   rewards mean     rewards std    e   \\n        \\n          convert list to tensor\\n        old states   torch stack memory states  to device  detach  \\n        old actions   torch stack memory actions  to device  detach  \\n        old logprobs   torch stack memory logprobs  to device  detach  \\n        \\n          Optimize policy for K epochs \\n        for   in range self K epochs  \\n              Evaluating old actions and values  \\n            logprobs  state values  dist entropy   self policy evaluate old states  old actions \\n            \\n              Finding the ratio  pi theta   pi theta  old  \\n            ratios   torch exp logprobs   old logprobs detach   \\n                \\n              Finding Surrogate Loss \\n            advantages   rewards   state values detach  \\n            surr    ratios   advantages\\n            surr    torch clamp ratios    self eps clip    self eps clip    advantages\\n            loss    torch min surr   surr         self MseLoss state values  rewards         dist entropy\\n            \\n              take gradient step\\n            self optimizer zero grad  \\n            loss mean   backward  \\n            self optimizer step  \\n        \\n          Copy new weights into old policy \\n        self policy old load state dict self policy state dict   \\n        \\n'"
      ]
     },
     "execution_count": 6,
     "metadata": {},
     "output_type": "execute_result"
    }
   ],
   "source": [
    "extractedCode[579]"
   ]
  },
  {
   "cell_type": "code",
   "execution_count": 7,
   "metadata": {},
   "outputs": [],
   "source": [
    "def get_wordnet_pos(treebank_tag):\n",
    "    \"\"\"Converts treebank tags to wordnet tags.\"\"\"\n",
    "    if treebank_tag.startswith('J'):\n",
    "        return wordnet.ADJ\n",
    "    elif treebank_tag.startswith('V'):\n",
    "        return wordnet.VERB\n",
    "    elif treebank_tag.startswith('N'):\n",
    "        return wordnet.NOUN\n",
    "    elif treebank_tag.startswith('R'):\n",
    "        return wordnet.ADV\n",
    "    else:\n",
    "        return None\n",
    "\n",
    "lemmatizer = WordNetLemmatizer()\n",
    "\n",
    "def lemmatize_text(text):\n",
    "    \"\"\"Lemmatizes text.\"\"\"\n",
    "    tokens = word_tokenize(text)\n",
    "    tagged_tokens = pos_tag(tokens)\n",
    "\n",
    "    lemmatized_tokens = []\n",
    "\n",
    "    for word, tag in tagged_tokens:\n",
    "        wn_tag = get_wordnet_pos(tag)\n",
    "        if wn_tag is None:\n",
    "            lemmatized_tokens.append(word)\n",
    "        else:\n",
    "            lemmatized_tokens.append(lemmatizer.lemmatize(word, pos=wn_tag))\n",
    "    return('  '.join(lemmatized_tokens))"
   ]
  },
  {
   "cell_type": "code",
   "execution_count": 8,
   "metadata": {},
   "outputs": [],
   "source": [
    "for i in range(len(extractedCode)):\n",
    "    extractedCode[i] = lemmatize_text(extractedCode[i])"
   ]
  },
  {
   "cell_type": "code",
   "execution_count": 9,
   "metadata": {},
   "outputs": [],
   "source": [
    "allBucketsInOne = lemmatize_text(allBucketsInOne)"
   ]
  },
  {
   "cell_type": "code",
   "execution_count": 10,
   "metadata": {},
   "outputs": [
    {
     "data": {
      "text/plain": [
       "'def  update  self  memory  Monte  Carlo  estimate  of  reward  reward  discount  reward  for  reward  be  terminal  in  zip  reverse  memory  reward  reverse  memory  be  terminal  if  be  terminal  discount  reward  discount  reward  reward  self  gamma  discount  reward  reward  insert  discount  reward  Normalizing  the  reward  reward  torch  tensor  reward  to  device  reward  reward  reward  mean  reward  std  e  convert  list  to  tensor  old  state  torch  squeeze  torch  stack  memory  state  to  device  detach  old  action  torch  squeeze  torch  stack  memory  action  to  device  detach  old  logprobs  torch  squeeze  torch  stack  memory  logprobs  to  device  detach  Optimize  policy  for  K  epoch  for  in  range  self  K  epochs  Evaluating  old  action  and  value  logprobs  state  value  dist  entropy  self  policy  evaluate  old  state  old  action  Finding  the  ratio  pi  theta  pi  theta  old  ratio  torch  exp  logprobs  old  logprobs  detach  Finding  Surrogate  Loss  advantage  reward  state  value  detach  surr  ratio  advantage  surr  torch  clamp  ratio  self  eps  clip  self  eps  clip  advantage  loss  torch  min  surr  surr  self  MseLoss  state  value  reward  dist  entropy  take  gradient  step  self  optimizer  zero  grad  loss  mean  backward  self  optimizer  step  Copy  new  weight  into  old  policy  self  policy  old  load  state  dict  self  policy  state  dict  def  update  self  memory  Monte  Carlo  estimation  of  reward  reward  discount  reward  for  reward  be  terminal  in  zip  reverse  memory  reward  reverse  memory  be  terminal  if  be  terminal  discount  reward  discount  reward  reward  self  gamma  discount  reward  reward  insert  discount  reward  Normalize  reward  reward  torch  tensor  reward  to  device  reward  reward  reward  mean  reward  std  e  convert  list  to  tensor  old  state  torch  squeeze  torch  stack  memory  state  to  device  detach  old  action  torch  squeeze  torch  stack  memory  action  to  device  detach  old  logprobs  torch  squeeze  torch  stack  memory  logprobs  to  device  detach  Train  policy  for  K  epoch  sampling  and  update  for  in  range  self  K  epoch  Evaluate  old  action  and  value  use  current  policy  logprobs  state  value  dist  entropy  self  policy  evaluate  old  state  old  action  Importance  ratio  p  q  ratio  torch  exp  logprobs  old  logprobs  detach  Advantages  advantage  reward  state  value  detach  old  state  reward  old  state  valueevaluated  by  current  policy  Actor  loss  use  Surrogate  loss  surr  ratio  advantage  surr  torch  clamp  ratio  self  eps  clip  self  eps  clip  advantage  actor  loss  torch  min  surr  surr  Critic  loss  critic  loss  entropy  critic  loss  self  MSE  loss  reward  state  value  dist  entropy  Total  loss  loss  actor  loss  critic  loss  Backward  gradients  self  optimizer  zero  grad  loss  mean  backward  self  optimizer  step  Copy  new  weight  to  old  policy  self  old  policy  load  state  dict  self  policy  state  dict  def  update  self  memory  Monte  Carlo  estimation  of  reward  reward  discount  reward  for  reward  be  terminal  in  zip  reverse  memory  reward  reverse  memory  be  terminal  if  be  terminal  discount  reward  discount  reward  reward  self  gamma  discount  reward  reward  insert  discount  reward  Normalize  reward  reward  torch  tensor  reward  to  device  reward  reward  reward  mean  reward  std  e  convert  list  to  tensor  old  state  torch  squeeze  torch  stack  memory  state  to  device  detach  old  action  torch  squeeze  torch  stack  memory  action  to  device  detach  old  logprobs  torch  squeeze  torch  stack  memory  logprobs  to  device  detach  Train  policy  for  K  epoch  sampling  and  update  for  in  range  self  K  epoch  Evaluate  old  action  and  value  use  current  policy  logprobs  state  value  dist  entropy  self  policy  evaluate  old  state  old  action  Importance  ratio  p  q  ratio  torch  exp  logprobs  old  logprobs  detach  Advantages  advantage  reward  state  value  detach  Actor  loss  use  Surrogate  loss  surr  ratio  advantage  surr  torch  clamp  ratio  self  eps  clip  self  eps  clip  advantage  actor  loss  torch  min  surr  surr  Critic  loss  critic  loss  entropy  critic  loss  self  MSE  loss  reward  state  value  dist  entropy  Total  loss  loss  actor  loss  critic  loss  Backward  gradients  self  optimizer  zero  grad  loss  mean  backward  self  optimizer  step  Copy  new  weight  to  old  policy  self  old  policy  load  state  dict  self  policy  state  dict  def  update  self  memory  reward  discount  reward  for  reward  be  terminal  in  zip  reverse  memory  reward  reverse  memory  be  terminal  if  be  terminal  discount  reward  discount  reward  reward  self  gamma  discount  reward  reward  insert  discount  reward  Normalizing  the  reward  reward  torch  tensor  reward  to  device  reward  reward  reward  mean  reward  std  e  convert  list  to  tensor  old  state  torch  stack  memory  state  to  device  detach  old  action  torch  stack  memory  action  to  device  detach  old  logprobs  torch  stack  memory  logprobs  to  device  detach  Optimize  policy  for  K  epoch  for  in  range  self  K  epochs  Evaluating  old  action  and  value  logprobs  state  value  dist  entropy  self  policy  evaluate  old  state  old  action  Finding  the  ratiopi  theta  pi  theta  old  ratio  torch  exp  logprobs  old  logprobs  detach  Finding  Surrogate  Loss  advantage  reward  state  value  detach  surr  ratio  advantage  surr  torch  clamp  ratio  self  eps  clip  self  eps  clip  advantage  loss  torch  min  surr  surr  self  MseLoss  state  value  reward  dist  entropy  take  gradient  step  self  optimizer  zero  grad  loss  mean  backward  self  optimizer  step  Copy  new  weight  into  old  policy  self  policy  old  load  state  dict  self  policy  state  dict  def  update  self  memory  Monte  Carlo  estimate  of  state  reward  reward  discount  reward  for  reward  be  terminal  in  zip  reverse  memory  reward  reverse  memory  be  terminal  if  be  terminal  discount  reward  discount  reward  reward  self  gamma  discount  reward  reward  insert  discount  reward  Normalizing  the  reward  reward  torch  tensor  reward  dtype  torch  float  to  device  reward  reward  reward  mean  reward  std  e  convert  list  to  tensor  old  state  torch  stack  memory  state  to  device  detach  old  action  torch  stack  memory  action  to  device  detach  old  logprobs  torch  stack  memory  logprobs  to  device  detach  Optimize  policy  for  K  epoch  for  in  range  self  K  epochs  Evaluating  old  action  and  value  logprobs  state  value  dist  entropy  self  policy  evaluate  old  state  old  action  Finding  the  ratio  pi  theta  pi  theta  old  ratio  torch  exp  logprobs  old  logprobs  detach  Finding  Surrogate  Loss  advantage  reward  state  value  detach  surr  ratio  advantage  surr  torch  clamp  ratio  self  eps  clip  self  eps  clip  advantage  loss  torch  min  surr  surr  self  MseLoss  state  value  reward  dist  entropy  take  gradient  step  self  optimizer  zero  grad  loss  mean  backward  self  optimizer  step  Copy  new  weight  into  old  policy  self  policy  old  load  state  dict  self  policy  state  dict'"
      ]
     },
     "execution_count": 10,
     "metadata": {},
     "output_type": "execute_result"
    }
   ],
   "source": [
    "extractedCode[579]"
   ]
  },
  {
   "cell_type": "code",
   "execution_count": 11,
   "metadata": {},
   "outputs": [],
   "source": [
    "import os\n",
    "import json\n",
    "import numpy as np\n",
    "import pandas as pd\n",
    "from scipy import stats\n",
    "import gensim\n",
    "from gensim.models import LdaModel\n",
    "from gensim import corpora\n",
    "from gensim.models.phrases import Phrases\n",
    "from gensim.parsing.preprocessing import preprocess_string, remove_stopwords, stem_text\n",
    "from gensim.utils import to_unicode\n",
    "import seaborn as sns\n",
    "import matplotlib.pyplot as plt\n",
    "from itertools import combinations\n",
    "import scipy.sparse\n",
    "from nltk.corpus import stopwords\n",
    "import spacy\n",
    "from gensim.parsing.preprocessing import STOPWORDS"
   ]
  },
  {
   "cell_type": "code",
   "execution_count": 12,
   "metadata": {},
   "outputs": [],
   "source": [
    "def simple_tokenize(text):\n",
    "    # Tokenize by splitting on non-alphanumeric characters\n",
    "    return re.split(r'\\W+', text)\n",
    "\n",
    "def preprocessForTopicModelling(prompts_text, run_simple_tokenize=False):\n",
    "    if run_simple_tokenize:\n",
    "        processed_data = [simple_tokenize(text.lower()) for text in prompts_text]\n",
    "    else:\n",
    "        processed_data = [preprocess_string(text, filters=[lambda x: x.lower(), remove_stopwords, stem_text]) for text in prompts_text]\n",
    "    dictionary = corpora.Dictionary(processed_data)\n",
    "    corpus = [dictionary.doc2bow(text) for text in processed_data]\n",
    "\n",
    "    return dictionary, corpus, processed_data\n",
    "\n",
    "def get_sorted_topics(document_topic_dist):\n",
    "    \"\"\"Sort topics by their probability in descending order.\"\"\"\n",
    "    return [sorted(topics, key=lambda x: -x[1])[0] if topics else (None, 0) for topics in document_topic_dist]\n",
    "\n",
    "def get_topic_details(lda_model, topic_id, num_words=7):\n",
    "    \"\"\"Retrieve detailed words and their probabilities for a topic.\"\"\"\n",
    "    if topic_id is not None:\n",
    "        topic_words = lda_model.show_topic(topic_id, topn=num_words)\n",
    "        return [(word, prob) for word, prob in topic_words]\n",
    "    else:\n",
    "        return [\"No dominant topic or error in topic modeling\"]\n",
    "    \n",
    "def getTopicInfo(lda_model, document_topic_dist, num_words=7):\n",
    "    dominant_topic_info = pd.DataFrame()\n",
    "    sorted_topics = get_sorted_topics(document_topic_dist)\n",
    "    for i, (topic_id, prob) in enumerate(sorted_topics):\n",
    "        topic_info = get_topic_details(lda_model, topic_id, num_words)\n",
    "        dominant_topic_info = pd.concat([dominant_topic_info, pd.DataFrame({\"Topic ID\": [topic_id], \"Topic Probability\": [prob], \"Topic Words\": [topic_info]})], ignore_index=True)\n",
    "\n",
    "    all_topics_info = pd.DataFrame()\n",
    "    for topics in document_topic_dist:\n",
    "        if topics:  # Ensure topics is not empty\n",
    "            for topic_id, prob in topics:\n",
    "                topic_info = get_topic_details(lda_model, topic_id, num_words)\n",
    "                all_topics_info = pd.concat([all_topics_info, pd.DataFrame({\"Topic ID\": [topic_id], \"Topic Probability\": [prob], \"Topic Words\": [topic_info]})], ignore_index=True)\n",
    "    return all_topics_info, dominant_topic_info\n",
    "\n",
    "\n",
    "def runTopicModelling(processed_data, dictionary, corpus, optimal_num_topics=5):\n",
    "    lda_model = LdaModel(corpus=corpus, id2word=dictionary, num_topics=optimal_num_topics, passes=10)\n",
    "    document_topic_dist = [lda_model.get_document_topics(doc, minimum_probability=0) for doc in corpus]\n",
    "\n",
    "    all_topics_info, dominant_topic_info = getTopicInfo(lda_model, document_topic_dist, num_words=7)\n",
    "    return all_topics_info, dominant_topic_info"
   ]
  },
  {
   "cell_type": "code",
   "execution_count": 13,
   "metadata": {},
   "outputs": [
    {
     "data": {
      "image/png": "[encoded data removed]",
      "text/plain": [
       "<Figure size 640x480 with 1 Axes>"
      ]
     },
     "metadata": {},
     "output_type": "display_data"
    }
   ],
   "source": [
    "# find optimal number of topics to use in LDA by using coherence score\n",
    "def compute_coherence_values(dictionary, corpus, texts, limit, start=2, step = 6):\n",
    "    \"\"\"\n",
    "    Compute c_v coherence for various number of topics\n",
    "\n",
    "    Parameters:\n",
    "    ----------\n",
    "    dictionary : Gensim dictionary\n",
    "    corpus : Gensim corpus\n",
    "    texts : List of input texts\n",
    "    limit : Max num of topics\n",
    "\n",
    "    Returns:\n",
    "    -------\n",
    "    model_list : List of LDA topic models\n",
    "    coherence_values : Coherence values corresponding to the LDA model with respective number of topics\n",
    "    \"\"\"\n",
    "    coherence_values = []\n",
    "    model_list = []\n",
    "    for num_topics in range(start, limit, step):\n",
    "        model = LdaModel(corpus=corpus, id2word=dictionary, num_topics=num_topics)\n",
    "        model_list.append(model)\n",
    "        coherencemodel = gensim.models.CoherenceModel(model=model, texts=texts, dictionary=dictionary, coherence='c_v')\n",
    "        coherence_values.append(coherencemodel.get_coherence())\n",
    "\n",
    "    return model_list, coherence_values\n",
    "\n",
    "start, limit, step = 2, 40, 6\n",
    "dictionary, corpus, processed_data = preprocessForTopicModelling(extractedCode)\n",
    "\n",
    "model_list, coherence_values = compute_coherence_values(dictionary=dictionary, corpus=corpus, texts=processed_data, start=start, limit=limit, step=step)\n",
    "\n",
    "# Show graph\n",
    "x = range(start, limit, step)\n",
    "plt.plot(x, coherence_values)\n",
    "plt.xlabel(\"Num Topics\")\n",
    "plt.ylabel(\"Coherence score\")\n",
    "plt.legend((\"coherence_values\"), loc='best')\n",
    "plt.show()"
   ]
  },
  {
   "cell_type": "code",
   "execution_count": 14,
   "metadata": {},
   "outputs": [
    {
     "data": {
      "text/plain": [
       "8"
      ]
     },
     "execution_count": 14,
     "metadata": {},
     "output_type": "execute_result"
    }
   ],
   "source": [
    "# give max coherence score from the graph\n",
    "max_coherence_score = max(coherence_values)\n",
    "max_coherence_score_index = coherence_values.index(max_coherence_score)\n",
    "optimal_num_topics = x[max_coherence_score_index]\n",
    "optimal_num_topics"
   ]
  },
  {
   "cell_type": "code",
   "execution_count": 15,
   "metadata": {},
   "outputs": [],
   "source": [
    "dictionary, corpus, processed_data = preprocessForTopicModelling(extractedCode , run_simple_tokenize=True)\n",
    "all_topics_info, dominant_topic_info = runTopicModelling(processed_data, dictionary, corpus, optimal_num_topics=optimal_num_topics)"
   ]
  },
  {
   "cell_type": "code",
   "execution_count": 16,
   "metadata": {},
   "outputs": [
    {
     "data": {
      "text/html": [
       "<div>\n",
       "<style scoped>\n",
       "    .dataframe tbody tr th:only-of-type {\n",
       "        vertical-align: middle;\n",
       "    }\n",
       "\n",
       "    .dataframe tbody tr th {\n",
       "        vertical-align: top;\n",
       "    }\n",
       "\n",
       "    .dataframe thead th {\n",
       "        text-align: right;\n",
       "    }\n",
       "</style>\n",
       "<table border=\"1\" class=\"dataframe\">\n",
       "  <thead>\n",
       "    <tr style=\"text-align: right;\">\n",
       "      <th></th>\n",
       "      <th>Topic ID</th>\n",
       "      <th>Topic Probability</th>\n",
       "      <th>Topic Words</th>\n",
       "    </tr>\n",
       "  </thead>\n",
       "  <tbody>\n",
       "    <tr>\n",
       "      <th>0</th>\n",
       "      <td>0</td>\n",
       "      <td>0.000339</td>\n",
       "      <td>[(self, 0.19366688), (nn, 0.06379178), (d, 0.0...</td>\n",
       "    </tr>\n",
       "    <tr>\n",
       "      <th>1</th>\n",
       "      <td>1</td>\n",
       "      <td>0.166266</td>\n",
       "      <td>[(image, 0.036314674), (path, 0.03450716), (im...</td>\n",
       "    </tr>\n",
       "    <tr>\n",
       "      <th>2</th>\n",
       "      <td>2</td>\n",
       "      <td>0.000339</td>\n",
       "      <td>[(m, 0.019415414), (data, 0.016313631), (if, 0...</td>\n",
       "    </tr>\n",
       "    <tr>\n",
       "      <th>3</th>\n",
       "      <td>3</td>\n",
       "      <td>0.122062</td>\n",
       "      <td>[(x, 0.123805344), (self, 0.04888734), (out, 0...</td>\n",
       "    </tr>\n",
       "    <tr>\n",
       "      <th>4</th>\n",
       "      <td>4</td>\n",
       "      <td>0.211969</td>\n",
       "      <td>[(loss, 0.06707748), (batch, 0.028360616), (la...</td>\n",
       "    </tr>\n",
       "    <tr>\n",
       "      <th>...</th>\n",
       "      <td>...</td>\n",
       "      <td>...</td>\n",
       "      <td>...</td>\n",
       "    </tr>\n",
       "    <tr>\n",
       "      <th>26611</th>\n",
       "      <td>3</td>\n",
       "      <td>0.000599</td>\n",
       "      <td>[(x, 0.123805344), (self, 0.04888734), (out, 0...</td>\n",
       "    </tr>\n",
       "    <tr>\n",
       "      <th>26612</th>\n",
       "      <td>4</td>\n",
       "      <td>0.000599</td>\n",
       "      <td>[(loss, 0.06707748), (batch, 0.028360616), (la...</td>\n",
       "    </tr>\n",
       "    <tr>\n",
       "      <th>26613</th>\n",
       "      <td>5</td>\n",
       "      <td>0.000599</td>\n",
       "      <td>[(tensor, 0.026480533), (image, 0.025498932), ...</td>\n",
       "    </tr>\n",
       "    <tr>\n",
       "      <th>26614</th>\n",
       "      <td>6</td>\n",
       "      <td>0.009328</td>\n",
       "      <td>[(i, 0.036688775), (in, 0.02817), (for, 0.0221...</td>\n",
       "    </tr>\n",
       "    <tr>\n",
       "      <th>26615</th>\n",
       "      <td>7</td>\n",
       "      <td>0.080035</td>\n",
       "      <td>[(model, 0.037474528), (args, 0.02895278), (tr...</td>\n",
       "    </tr>\n",
       "  </tbody>\n",
       "</table>\n",
       "<p>26616 rows × 3 columns</p>\n",
       "</div>"
      ],
      "text/plain": [
       "       Topic ID  Topic Probability  \\\n",
       "0             0           0.000339   \n",
       "1             1           0.166266   \n",
       "2             2           0.000339   \n",
       "3             3           0.122062   \n",
       "4             4           0.211969   \n",
       "...         ...                ...   \n",
       "26611         3           0.000599   \n",
       "26612         4           0.000599   \n",
       "26613         5           0.000599   \n",
       "26614         6           0.009328   \n",
       "26615         7           0.080035   \n",
       "\n",
       "                                             Topic Words  \n",
       "0      [(self, 0.19366688), (nn, 0.06379178), (d, 0.0...  \n",
       "1      [(image, 0.036314674), (path, 0.03450716), (im...  \n",
       "2      [(m, 0.019415414), (data, 0.016313631), (if, 0...  \n",
       "3      [(x, 0.123805344), (self, 0.04888734), (out, 0...  \n",
       "4      [(loss, 0.06707748), (batch, 0.028360616), (la...  \n",
       "...                                                  ...  \n",
       "26611  [(x, 0.123805344), (self, 0.04888734), (out, 0...  \n",
       "26612  [(loss, 0.06707748), (batch, 0.028360616), (la...  \n",
       "26613  [(tensor, 0.026480533), (image, 0.025498932), ...  \n",
       "26614  [(i, 0.036688775), (in, 0.02817), (for, 0.0221...  \n",
       "26615  [(model, 0.037474528), (args, 0.02895278), (tr...  \n",
       "\n",
       "[26616 rows x 3 columns]"
      ]
     },
     "execution_count": 16,
     "metadata": {},
     "output_type": "execute_result"
    }
   ],
   "source": [
    "all_topics_info"
   ]
  },
  {
   "cell_type": "code",
   "execution_count": 17,
   "metadata": {},
   "outputs": [
    {
     "data": {
      "text/html": [
       "<div>\n",
       "<style scoped>\n",
       "    .dataframe tbody tr th:only-of-type {\n",
       "        vertical-align: middle;\n",
       "    }\n",
       "\n",
       "    .dataframe tbody tr th {\n",
       "        vertical-align: top;\n",
       "    }\n",
       "\n",
       "    .dataframe thead th {\n",
       "        text-align: right;\n",
       "    }\n",
       "</style>\n",
       "<table border=\"1\" class=\"dataframe\">\n",
       "  <thead>\n",
       "    <tr style=\"text-align: right;\">\n",
       "      <th></th>\n",
       "      <th>Topic ID</th>\n",
       "      <th>Topic Probability</th>\n",
       "      <th>Topic Words</th>\n",
       "    </tr>\n",
       "  </thead>\n",
       "  <tbody>\n",
       "    <tr>\n",
       "      <th>0</th>\n",
       "      <td>5</td>\n",
       "      <td>0.472178</td>\n",
       "      <td>[(tensor, 0.026480533), (image, 0.025498932), ...</td>\n",
       "    </tr>\n",
       "    <tr>\n",
       "      <th>1</th>\n",
       "      <td>7</td>\n",
       "      <td>0.854864</td>\n",
       "      <td>[(model, 0.037474528), (args, 0.02895278), (tr...</td>\n",
       "    </tr>\n",
       "    <tr>\n",
       "      <th>2</th>\n",
       "      <td>2</td>\n",
       "      <td>0.524535</td>\n",
       "      <td>[(m, 0.019415414), (data, 0.016313631), (if, 0...</td>\n",
       "    </tr>\n",
       "    <tr>\n",
       "      <th>3</th>\n",
       "      <td>2</td>\n",
       "      <td>0.520338</td>\n",
       "      <td>[(m, 0.019415414), (data, 0.016313631), (if, 0...</td>\n",
       "    </tr>\n",
       "    <tr>\n",
       "      <th>4</th>\n",
       "      <td>3</td>\n",
       "      <td>0.675147</td>\n",
       "      <td>[(x, 0.123805344), (self, 0.04888734), (out, 0...</td>\n",
       "    </tr>\n",
       "    <tr>\n",
       "      <th>...</th>\n",
       "      <td>...</td>\n",
       "      <td>...</td>\n",
       "      <td>...</td>\n",
       "    </tr>\n",
       "    <tr>\n",
       "      <th>3322</th>\n",
       "      <td>0</td>\n",
       "      <td>0.910444</td>\n",
       "      <td>[(self, 0.19366688), (nn, 0.06379178), (d, 0.0...</td>\n",
       "    </tr>\n",
       "    <tr>\n",
       "      <th>3323</th>\n",
       "      <td>2</td>\n",
       "      <td>0.729933</td>\n",
       "      <td>[(m, 0.019415414), (data, 0.016313631), (if, 0...</td>\n",
       "    </tr>\n",
       "    <tr>\n",
       "      <th>3324</th>\n",
       "      <td>1</td>\n",
       "      <td>0.589365</td>\n",
       "      <td>[(image, 0.036314674), (path, 0.03450716), (im...</td>\n",
       "    </tr>\n",
       "    <tr>\n",
       "      <th>3325</th>\n",
       "      <td>0</td>\n",
       "      <td>0.846604</td>\n",
       "      <td>[(self, 0.19366688), (nn, 0.06379178), (d, 0.0...</td>\n",
       "    </tr>\n",
       "    <tr>\n",
       "      <th>3326</th>\n",
       "      <td>0</td>\n",
       "      <td>0.907643</td>\n",
       "      <td>[(self, 0.19366688), (nn, 0.06379178), (d, 0.0...</td>\n",
       "    </tr>\n",
       "  </tbody>\n",
       "</table>\n",
       "<p>3327 rows × 3 columns</p>\n",
       "</div>"
      ],
      "text/plain": [
       "      Topic ID  Topic Probability  \\\n",
       "0            5           0.472178   \n",
       "1            7           0.854864   \n",
       "2            2           0.524535   \n",
       "3            2           0.520338   \n",
       "4            3           0.675147   \n",
       "...        ...                ...   \n",
       "3322         0           0.910444   \n",
       "3323         2           0.729933   \n",
       "3324         1           0.589365   \n",
       "3325         0           0.846604   \n",
       "3326         0           0.907643   \n",
       "\n",
       "                                            Topic Words  \n",
       "0     [(tensor, 0.026480533), (image, 0.025498932), ...  \n",
       "1     [(model, 0.037474528), (args, 0.02895278), (tr...  \n",
       "2     [(m, 0.019415414), (data, 0.016313631), (if, 0...  \n",
       "3     [(m, 0.019415414), (data, 0.016313631), (if, 0...  \n",
       "4     [(x, 0.123805344), (self, 0.04888734), (out, 0...  \n",
       "...                                                 ...  \n",
       "3322  [(self, 0.19366688), (nn, 0.06379178), (d, 0.0...  \n",
       "3323  [(m, 0.019415414), (data, 0.016313631), (if, 0...  \n",
       "3324  [(image, 0.036314674), (path, 0.03450716), (im...  \n",
       "3325  [(self, 0.19366688), (nn, 0.06379178), (d, 0.0...  \n",
       "3326  [(self, 0.19366688), (nn, 0.06379178), (d, 0.0...  \n",
       "\n",
       "[3327 rows x 3 columns]"
      ]
     },
     "execution_count": 17,
     "metadata": {},
     "output_type": "execute_result"
    }
   ],
   "source": [
    "dominant_topic_info"
   ]
  },
  {
   "cell_type": "code",
   "execution_count": 18,
   "metadata": {},
   "outputs": [],
   "source": [
    "all_topics_info.to_csv(\"../../analysis/RQ3/all_topics_info.csv\", index=False)\n",
    "dominant_topic_info.to_csv(\"../../analysis/RQ3/dominant_topic_info.csv\", index=False)"
   ]
  },
  {
   "cell_type": "markdown",
   "metadata": {},
   "source": [
    "## LDA Modelling on one entire document\n",
    "- randomly pick one pre processed snippet from each class/bucket\n",
    "- concatenate them into one document \n",
    "- apply topic modelling on that big single document"
   ]
  },
  {
   "cell_type": "code",
   "execution_count": 19,
   "metadata": {},
   "outputs": [],
   "source": [
    "preprocessForTopicModelling([allBucketsInOne], run_simple_tokenize=True)\n",
    "\n",
    "dictionary, corpus, processed_data = preprocessForTopicModelling([allBucketsInOne], run_simple_tokenize=True)\n",
    "all_topics_info, dominant_topic_info = runTopicModelling(processed_data, dictionary, corpus, optimal_num_topics=optimal_num_topics)"
   ]
  },
  {
   "cell_type": "code",
   "execution_count": 20,
   "metadata": {},
   "outputs": [
    {
     "data": {
      "text/html": [
       "<div>\n",
       "<style scoped>\n",
       "    .dataframe tbody tr th:only-of-type {\n",
       "        vertical-align: middle;\n",
       "    }\n",
       "\n",
       "    .dataframe tbody tr th {\n",
       "        vertical-align: top;\n",
       "    }\n",
       "\n",
       "    .dataframe thead th {\n",
       "        text-align: right;\n",
       "    }\n",
       "</style>\n",
       "<table border=\"1\" class=\"dataframe\">\n",
       "  <thead>\n",
       "    <tr style=\"text-align: right;\">\n",
       "      <th></th>\n",
       "      <th>Topic ID</th>\n",
       "      <th>Topic Probability</th>\n",
       "      <th>Topic Words</th>\n",
       "    </tr>\n",
       "  </thead>\n",
       "  <tbody>\n",
       "    <tr>\n",
       "      <th>0</th>\n",
       "      <td>0</td>\n",
       "      <td>2.285066e-07</td>\n",
       "      <td>[(self, 0.016131181), (size, 0.0096446015), (i...</td>\n",
       "    </tr>\n",
       "    <tr>\n",
       "      <th>1</th>\n",
       "      <td>1</td>\n",
       "      <td>2.285783e-07</td>\n",
       "      <td>[(self, 0.022960866), (size, 0.01753713), (los...</td>\n",
       "    </tr>\n",
       "    <tr>\n",
       "      <th>2</th>\n",
       "      <td>2</td>\n",
       "      <td>2.283841e-07</td>\n",
       "      <td>[(self, 0.0056956187), (size, 0.003719733), (m...</td>\n",
       "    </tr>\n",
       "    <tr>\n",
       "      <th>3</th>\n",
       "      <td>3</td>\n",
       "      <td>9.999984e-01</td>\n",
       "      <td>[(self, 0.034579303), (size, 0.015174575), (mo...</td>\n",
       "    </tr>\n",
       "    <tr>\n",
       "      <th>4</th>\n",
       "      <td>4</td>\n",
       "      <td>2.283922e-07</td>\n",
       "      <td>[(self, 0.008165202), (size, 0.003073128), (nn...</td>\n",
       "    </tr>\n",
       "    <tr>\n",
       "      <th>5</th>\n",
       "      <td>5</td>\n",
       "      <td>2.284314e-07</td>\n",
       "      <td>[(self, 0.007421445), (size, 0.0059193335), (i...</td>\n",
       "    </tr>\n",
       "    <tr>\n",
       "      <th>6</th>\n",
       "      <td>6</td>\n",
       "      <td>2.284582e-07</td>\n",
       "      <td>[(self, 0.014206006), (model, 0.0058023576), (...</td>\n",
       "    </tr>\n",
       "    <tr>\n",
       "      <th>7</th>\n",
       "      <td>7</td>\n",
       "      <td>2.286663e-07</td>\n",
       "      <td>[(self, 0.028471768), (size, 0.01471322), (if,...</td>\n",
       "    </tr>\n",
       "  </tbody>\n",
       "</table>\n",
       "</div>"
      ],
      "text/plain": [
       "   Topic ID  Topic Probability  \\\n",
       "0         0       2.285066e-07   \n",
       "1         1       2.285783e-07   \n",
       "2         2       2.283841e-07   \n",
       "3         3       9.999984e-01   \n",
       "4         4       2.283922e-07   \n",
       "5         5       2.284314e-07   \n",
       "6         6       2.284582e-07   \n",
       "7         7       2.286663e-07   \n",
       "\n",
       "                                         Topic Words  \n",
       "0  [(self, 0.016131181), (size, 0.0096446015), (i...  \n",
       "1  [(self, 0.022960866), (size, 0.01753713), (los...  \n",
       "2  [(self, 0.0056956187), (size, 0.003719733), (m...  \n",
       "3  [(self, 0.034579303), (size, 0.015174575), (mo...  \n",
       "4  [(self, 0.008165202), (size, 0.003073128), (nn...  \n",
       "5  [(self, 0.007421445), (size, 0.0059193335), (i...  \n",
       "6  [(self, 0.014206006), (model, 0.0058023576), (...  \n",
       "7  [(self, 0.028471768), (size, 0.01471322), (if,...  "
      ]
     },
     "execution_count": 20,
     "metadata": {},
     "output_type": "execute_result"
    }
   ],
   "source": [
    "all_topics_info"
   ]
  },
  {
   "cell_type": "code",
   "execution_count": 21,
   "metadata": {},
   "outputs": [
    {
     "data": {
      "text/html": [
       "<div>\n",
       "<style scoped>\n",
       "    .dataframe tbody tr th:only-of-type {\n",
       "        vertical-align: middle;\n",
       "    }\n",
       "\n",
       "    .dataframe tbody tr th {\n",
       "        vertical-align: top;\n",
       "    }\n",
       "\n",
       "    .dataframe thead th {\n",
       "        text-align: right;\n",
       "    }\n",
       "</style>\n",
       "<table border=\"1\" class=\"dataframe\">\n",
       "  <thead>\n",
       "    <tr style=\"text-align: right;\">\n",
       "      <th></th>\n",
       "      <th>Topic ID</th>\n",
       "      <th>Topic Probability</th>\n",
       "      <th>Topic Words</th>\n",
       "    </tr>\n",
       "  </thead>\n",
       "  <tbody>\n",
       "    <tr>\n",
       "      <th>0</th>\n",
       "      <td>3</td>\n",
       "      <td>0.999998</td>\n",
       "      <td>[(self, 0.034579303), (size, 0.015174575), (mo...</td>\n",
       "    </tr>\n",
       "  </tbody>\n",
       "</table>\n",
       "</div>"
      ],
      "text/plain": [
       "   Topic ID  Topic Probability  \\\n",
       "0         3           0.999998   \n",
       "\n",
       "                                         Topic Words  \n",
       "0  [(self, 0.034579303), (size, 0.015174575), (mo...  "
      ]
     },
     "execution_count": 21,
     "metadata": {},
     "output_type": "execute_result"
    }
   ],
   "source": [
    "dominant_topic_info"
   ]
  },
  {
   "cell_type": "code",
   "execution_count": 22,
   "metadata": {},
   "outputs": [],
   "source": [
    "all_topics_info.to_csv(\"../../analysis/RQ3/all_topics_info_allBuckets.csv\", index=False)\n",
    "dominant_topic_info.to_csv(\"../../analysis/RQ3/dominant_topic_info_allBuckets.csv\", index=False)"
   ]
  }
 ],
 "metadata": {
  "kernelspec": {
   "display_name": "base",
   "language": "python",
   "name": "python3"
  },
  "language_info": {
   "codemirror_mode": {
    "name": "ipython",
    "version": 3
   },
   "file_extension": ".py",
   "mimetype": "text/x-python",
   "name": "python",
   "nbconvert_exporter": "python",
   "pygments_lexer": "ipython3",
   "version": "3.12.2"
  }
 },
 "nbformat": 4,
 "nbformat_minor": 2
}
